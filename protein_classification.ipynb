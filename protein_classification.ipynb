{
 "cells": [
  {
   "cell_type": "markdown",
   "metadata": {},
   "source": [
    "###  Protein classification using RandomForest"
   ]
  },
  {
   "cell_type": "code",
   "execution_count": 1,
   "metadata": {},
   "outputs": [],
   "source": [
    "import pandas as pd\n",
    "import numpy as np\n",
    "import matplotlib.pyplot as plt\n",
    "import seaborn as sns\n",
    "\n",
    "from sklearn.model_selection import train_test_split\n",
    "from sklearn.ensemble import RandomForestClassifier\n",
    "from sklearn.metrics import confusion_matrix, classification_report, accuracy_score\n",
    "\n",
    "sns.set_style('whitegrid')\n",
    "%matplotlib inline"
   ]
  },
  {
   "cell_type": "code",
   "execution_count": 2,
   "metadata": {},
   "outputs": [
    {
     "data": {
      "text/html": [
       "<div>\n",
       "<style scoped>\n",
       "    .dataframe tbody tr th:only-of-type {\n",
       "        vertical-align: middle;\n",
       "    }\n",
       "\n",
       "    .dataframe tbody tr th {\n",
       "        vertical-align: top;\n",
       "    }\n",
       "\n",
       "    .dataframe thead th {\n",
       "        text-align: right;\n",
       "    }\n",
       "</style>\n",
       "<table border=\"1\" class=\"dataframe\">\n",
       "  <thead>\n",
       "    <tr style=\"text-align: right;\">\n",
       "      <th></th>\n",
       "      <th>structureId</th>\n",
       "      <th>classification</th>\n",
       "      <th>experimentalTechnique</th>\n",
       "      <th>macromoleculeType</th>\n",
       "      <th>residueCount</th>\n",
       "      <th>resolution</th>\n",
       "      <th>structureMolecularWeight</th>\n",
       "      <th>crystallizationMethod</th>\n",
       "      <th>crystallizationTempK</th>\n",
       "      <th>densityMatthews</th>\n",
       "      <th>densityPercentSol</th>\n",
       "      <th>pdbxDetails</th>\n",
       "      <th>phValue</th>\n",
       "      <th>publicationYear</th>\n",
       "      <th>chainId</th>\n",
       "      <th>sequence</th>\n",
       "    </tr>\n",
       "  </thead>\n",
       "  <tbody>\n",
       "    <tr>\n",
       "      <th>0</th>\n",
       "      <td>100D</td>\n",
       "      <td>DNA-RNA HYBRID</td>\n",
       "      <td>X-RAY DIFFRACTION</td>\n",
       "      <td>DNA/RNA Hybrid</td>\n",
       "      <td>20</td>\n",
       "      <td>1.90</td>\n",
       "      <td>6360.30</td>\n",
       "      <td>VAPOR DIFFUSION, HANGING DROP</td>\n",
       "      <td>NaN</td>\n",
       "      <td>1.78</td>\n",
       "      <td>30.89</td>\n",
       "      <td>pH 7.00, VAPOR DIFFUSION, HANGING DROP</td>\n",
       "      <td>7.0</td>\n",
       "      <td>1994.0</td>\n",
       "      <td>A</td>\n",
       "      <td>CCGGCGCCGG</td>\n",
       "    </tr>\n",
       "    <tr>\n",
       "      <th>1</th>\n",
       "      <td>100D</td>\n",
       "      <td>DNA-RNA HYBRID</td>\n",
       "      <td>X-RAY DIFFRACTION</td>\n",
       "      <td>DNA/RNA Hybrid</td>\n",
       "      <td>20</td>\n",
       "      <td>1.90</td>\n",
       "      <td>6360.30</td>\n",
       "      <td>VAPOR DIFFUSION, HANGING DROP</td>\n",
       "      <td>NaN</td>\n",
       "      <td>1.78</td>\n",
       "      <td>30.89</td>\n",
       "      <td>pH 7.00, VAPOR DIFFUSION, HANGING DROP</td>\n",
       "      <td>7.0</td>\n",
       "      <td>1994.0</td>\n",
       "      <td>B</td>\n",
       "      <td>CCGGCGCCGG</td>\n",
       "    </tr>\n",
       "    <tr>\n",
       "      <th>2</th>\n",
       "      <td>101D</td>\n",
       "      <td>DNA</td>\n",
       "      <td>X-RAY DIFFRACTION</td>\n",
       "      <td>DNA</td>\n",
       "      <td>24</td>\n",
       "      <td>2.25</td>\n",
       "      <td>7939.35</td>\n",
       "      <td>NaN</td>\n",
       "      <td>NaN</td>\n",
       "      <td>2.00</td>\n",
       "      <td>38.45</td>\n",
       "      <td>NaN</td>\n",
       "      <td>NaN</td>\n",
       "      <td>1995.0</td>\n",
       "      <td>A</td>\n",
       "      <td>CGCGAATTCGCG</td>\n",
       "    </tr>\n",
       "    <tr>\n",
       "      <th>3</th>\n",
       "      <td>101D</td>\n",
       "      <td>DNA</td>\n",
       "      <td>X-RAY DIFFRACTION</td>\n",
       "      <td>DNA</td>\n",
       "      <td>24</td>\n",
       "      <td>2.25</td>\n",
       "      <td>7939.35</td>\n",
       "      <td>NaN</td>\n",
       "      <td>NaN</td>\n",
       "      <td>2.00</td>\n",
       "      <td>38.45</td>\n",
       "      <td>NaN</td>\n",
       "      <td>NaN</td>\n",
       "      <td>1995.0</td>\n",
       "      <td>B</td>\n",
       "      <td>CGCGAATTCGCG</td>\n",
       "    </tr>\n",
       "    <tr>\n",
       "      <th>4</th>\n",
       "      <td>101M</td>\n",
       "      <td>OXYGEN TRANSPORT</td>\n",
       "      <td>X-RAY DIFFRACTION</td>\n",
       "      <td>Protein</td>\n",
       "      <td>154</td>\n",
       "      <td>2.07</td>\n",
       "      <td>18112.80</td>\n",
       "      <td>NaN</td>\n",
       "      <td>NaN</td>\n",
       "      <td>3.09</td>\n",
       "      <td>60.20</td>\n",
       "      <td>3.0 M AMMONIUM SULFATE, 20 MM TRIS, 1MM EDTA, ...</td>\n",
       "      <td>9.0</td>\n",
       "      <td>1999.0</td>\n",
       "      <td>A</td>\n",
       "      <td>MVLSEGEWQLVLHVWAKVEADVAGHGQDILIRLFKSHPETLEKFDR...</td>\n",
       "    </tr>\n",
       "  </tbody>\n",
       "</table>\n",
       "</div>"
      ],
      "text/plain": [
       "  structureId    classification experimentalTechnique macromoleculeType  \\\n",
       "0        100D    DNA-RNA HYBRID     X-RAY DIFFRACTION    DNA/RNA Hybrid   \n",
       "1        100D    DNA-RNA HYBRID     X-RAY DIFFRACTION    DNA/RNA Hybrid   \n",
       "2        101D               DNA     X-RAY DIFFRACTION               DNA   \n",
       "3        101D               DNA     X-RAY DIFFRACTION               DNA   \n",
       "4        101M  OXYGEN TRANSPORT     X-RAY DIFFRACTION           Protein   \n",
       "\n",
       "   residueCount  resolution  structureMolecularWeight  \\\n",
       "0            20        1.90                   6360.30   \n",
       "1            20        1.90                   6360.30   \n",
       "2            24        2.25                   7939.35   \n",
       "3            24        2.25                   7939.35   \n",
       "4           154        2.07                  18112.80   \n",
       "\n",
       "           crystallizationMethod  crystallizationTempK  densityMatthews  \\\n",
       "0  VAPOR DIFFUSION, HANGING DROP                   NaN             1.78   \n",
       "1  VAPOR DIFFUSION, HANGING DROP                   NaN             1.78   \n",
       "2                            NaN                   NaN             2.00   \n",
       "3                            NaN                   NaN             2.00   \n",
       "4                            NaN                   NaN             3.09   \n",
       "\n",
       "   densityPercentSol                                        pdbxDetails  \\\n",
       "0              30.89             pH 7.00, VAPOR DIFFUSION, HANGING DROP   \n",
       "1              30.89             pH 7.00, VAPOR DIFFUSION, HANGING DROP   \n",
       "2              38.45                                                NaN   \n",
       "3              38.45                                                NaN   \n",
       "4              60.20  3.0 M AMMONIUM SULFATE, 20 MM TRIS, 1MM EDTA, ...   \n",
       "\n",
       "   phValue  publicationYear chainId  \\\n",
       "0      7.0           1994.0       A   \n",
       "1      7.0           1994.0       B   \n",
       "2      NaN           1995.0       A   \n",
       "3      NaN           1995.0       B   \n",
       "4      9.0           1999.0       A   \n",
       "\n",
       "                                            sequence  \n",
       "0                                         CCGGCGCCGG  \n",
       "1                                         CCGGCGCCGG  \n",
       "2                                       CGCGAATTCGCG  \n",
       "3                                       CGCGAATTCGCG  \n",
       "4  MVLSEGEWQLVLHVWAKVEADVAGHGQDILIRLFKSHPETLEKFDR...  "
      ]
     },
     "execution_count": 2,
     "metadata": {},
     "output_type": "execute_result"
    }
   ],
   "source": [
    "df1 = pd.read_csv('Data/pdb_data_no_dups.csv')\n",
    "df2 = pd.read_csv('Data/pdb_data_seq.csv')\n",
    "\n",
    "df = pd.merge(df1,df2[['structureId','chainId','sequence']], on='structureId', how='inner')\n",
    "df.head()"
   ]
  },
  {
   "cell_type": "markdown",
   "metadata": {},
   "source": [
    "Total number of protein classes"
   ]
  },
  {
   "cell_type": "code",
   "execution_count": 3,
   "metadata": {},
   "outputs": [
    {
     "name": "stdout",
     "output_type": "stream",
     "text": [
      "(346325, 16)\n"
     ]
    },
    {
     "data": {
      "text/plain": [
       "4468"
      ]
     },
     "execution_count": 3,
     "metadata": {},
     "output_type": "execute_result"
    }
   ],
   "source": [
    "df = df[df['macromoleculeType'] == \"Protein\"]\n",
    "print(df.shape)\n",
    "len(df[df['macromoleculeType'] == \"Protein\"]['classification'].value_counts())"
   ]
  },
  {
   "cell_type": "markdown",
   "metadata": {},
   "source": [
    "Missing values per column in percentage"
   ]
  },
  {
   "cell_type": "code",
   "execution_count": 4,
   "metadata": {},
   "outputs": [
    {
     "name": "stdout",
     "output_type": "stream",
     "text": [
      "structureId  :  0.0\n",
      "classification  :  0.0\n",
      "experimentalTechnique  :  0.0\n",
      "macromoleculeType  :  0.0\n",
      "residueCount  :  0.0\n",
      "resolution  :  3.4\n",
      "structureMolecularWeight  :  0.0\n",
      "crystallizationMethod  :  22.4\n",
      "crystallizationTempK  :  21.7\n",
      "densityMatthews  :  8.2\n",
      "densityPercentSol  :  8.2\n",
      "pdbxDetails  :  11.0\n",
      "phValue  :  18.5\n",
      "publicationYear  :  10.8\n",
      "chainId  :  0.0\n",
      "sequence  :  0.0\n"
     ]
    }
   ],
   "source": [
    "\n",
    "for i, v in df.isnull().sum().items():\n",
    "    print(i, \" : \", round((v/471149)*100, 1))"
   ]
  },
  {
   "cell_type": "code",
   "execution_count": 5,
   "metadata": {},
   "outputs": [
    {
     "data": {
      "image/png": "[encoded data removed]",
      "text/plain": [
       "<Figure size 864x432 with 1 Axes>"
      ]
     },
     "metadata": {
      "needs_background": "light"
     },
     "output_type": "display_data"
    }
   ],
   "source": [
    "plt.figure(figsize=(12,6))\n",
    "sns.heatmap(df.isnull(), yticklabels=False,cbar=False)\n",
    "plt.show()"
   ]
  },
  {
   "cell_type": "code",
   "execution_count": 6,
   "metadata": {},
   "outputs": [
    {
     "data": {
      "text/html": [
       "<div>\n",
       "<style scoped>\n",
       "    .dataframe tbody tr th:only-of-type {\n",
       "        vertical-align: middle;\n",
       "    }\n",
       "\n",
       "    .dataframe tbody tr th {\n",
       "        vertical-align: top;\n",
       "    }\n",
       "\n",
       "    .dataframe thead th {\n",
       "        text-align: right;\n",
       "    }\n",
       "</style>\n",
       "<table border=\"1\" class=\"dataframe\">\n",
       "  <thead>\n",
       "    <tr style=\"text-align: right;\">\n",
       "      <th></th>\n",
       "      <th>structureId</th>\n",
       "      <th>classification</th>\n",
       "      <th>experimentalTechnique</th>\n",
       "      <th>macromoleculeType</th>\n",
       "      <th>residueCount</th>\n",
       "      <th>resolution</th>\n",
       "      <th>structureMolecularWeight</th>\n",
       "      <th>crystallizationMethod</th>\n",
       "      <th>crystallizationTempK</th>\n",
       "      <th>densityMatthews</th>\n",
       "      <th>densityPercentSol</th>\n",
       "      <th>pdbxDetails</th>\n",
       "      <th>phValue</th>\n",
       "      <th>publicationYear</th>\n",
       "      <th>chainId</th>\n",
       "      <th>sequence</th>\n",
       "    </tr>\n",
       "  </thead>\n",
       "  <tbody>\n",
       "    <tr>\n",
       "      <th>0</th>\n",
       "      <td>101M</td>\n",
       "      <td>oxygen transport</td>\n",
       "      <td>X-RAY DIFFRACTION</td>\n",
       "      <td>Protein</td>\n",
       "      <td>154</td>\n",
       "      <td>2.07</td>\n",
       "      <td>18112.80</td>\n",
       "      <td>NaN</td>\n",
       "      <td>NaN</td>\n",
       "      <td>3.09</td>\n",
       "      <td>60.20</td>\n",
       "      <td>3.0 M AMMONIUM SULFATE, 20 MM TRIS, 1MM EDTA, ...</td>\n",
       "      <td>9.0</td>\n",
       "      <td>1999.0</td>\n",
       "      <td>A</td>\n",
       "      <td>MVLSEGEWQLVLHVWAKVEADVAGHGQDILIRLFKSHPETLEKFDR...</td>\n",
       "    </tr>\n",
       "    <tr>\n",
       "      <th>1</th>\n",
       "      <td>102L</td>\n",
       "      <td>hydrolase/o-glycosyl</td>\n",
       "      <td>X-RAY DIFFRACTION</td>\n",
       "      <td>Protein</td>\n",
       "      <td>165</td>\n",
       "      <td>1.74</td>\n",
       "      <td>18926.61</td>\n",
       "      <td>NaN</td>\n",
       "      <td>NaN</td>\n",
       "      <td>2.75</td>\n",
       "      <td>55.28</td>\n",
       "      <td>NaN</td>\n",
       "      <td>NaN</td>\n",
       "      <td>1993.0</td>\n",
       "      <td>A</td>\n",
       "      <td>MNIFEMLRIDEGLRLKIYKDTEGYYTIGIGHLLTKSPSLNAAAKSE...</td>\n",
       "    </tr>\n",
       "    <tr>\n",
       "      <th>2</th>\n",
       "      <td>102M</td>\n",
       "      <td>oxygen transport</td>\n",
       "      <td>X-RAY DIFFRACTION</td>\n",
       "      <td>Protein</td>\n",
       "      <td>154</td>\n",
       "      <td>1.84</td>\n",
       "      <td>18010.64</td>\n",
       "      <td>NaN</td>\n",
       "      <td>NaN</td>\n",
       "      <td>3.09</td>\n",
       "      <td>60.20</td>\n",
       "      <td>3.0 M AMMONIUM SULFATE, 20 MM TRIS, 1MM EDTA, ...</td>\n",
       "      <td>9.0</td>\n",
       "      <td>1999.0</td>\n",
       "      <td>A</td>\n",
       "      <td>MVLSEGEWQLVLHVWAKVEADVAGHGQDILIRLFKSHPETLEKFDR...</td>\n",
       "    </tr>\n",
       "  </tbody>\n",
       "</table>\n",
       "</div>"
      ],
      "text/plain": [
       "  structureId        classification experimentalTechnique macromoleculeType  \\\n",
       "0        101M      oxygen transport     X-RAY DIFFRACTION           Protein   \n",
       "1        102L  hydrolase/o-glycosyl     X-RAY DIFFRACTION           Protein   \n",
       "2        102M      oxygen transport     X-RAY DIFFRACTION           Protein   \n",
       "\n",
       "   residueCount  resolution  structureMolecularWeight crystallizationMethod  \\\n",
       "0           154        2.07                  18112.80                   NaN   \n",
       "1           165        1.74                  18926.61                   NaN   \n",
       "2           154        1.84                  18010.64                   NaN   \n",
       "\n",
       "   crystallizationTempK  densityMatthews  densityPercentSol  \\\n",
       "0                   NaN             3.09              60.20   \n",
       "1                   NaN             2.75              55.28   \n",
       "2                   NaN             3.09              60.20   \n",
       "\n",
       "                                         pdbxDetails  phValue  \\\n",
       "0  3.0 M AMMONIUM SULFATE, 20 MM TRIS, 1MM EDTA, ...      9.0   \n",
       "1                                                NaN      NaN   \n",
       "2  3.0 M AMMONIUM SULFATE, 20 MM TRIS, 1MM EDTA, ...      9.0   \n",
       "\n",
       "   publicationYear chainId                                           sequence  \n",
       "0           1999.0       A  MVLSEGEWQLVLHVWAKVEADVAGHGQDILIRLFKSHPETLEKFDR...  \n",
       "1           1993.0       A  MNIFEMLRIDEGLRLKIYKDTEGYYTIGIGHLLTKSPSLNAAAKSE...  \n",
       "2           1999.0       A  MVLSEGEWQLVLHVWAKVEADVAGHGQDILIRLFKSHPETLEKFDR...  "
      ]
     },
     "execution_count": 6,
     "metadata": {},
     "output_type": "execute_result"
    }
   ],
   "source": [
    "\n",
    "df = df[df['macromoleculeType'] == \"Protein\"]\n",
    "df.reset_index(inplace=True, drop=True)\n",
    "df['classification'] = df['classification'].str.lower()\n",
    "df['classification'] = df['classification'].str.replace('(', '/')\n",
    "df['classification'] = df['classification'].str.replace(',', '/')\n",
    "df['classification'] = df['classification'].str.replace(', ', '/')\n",
    "df['classification'] = df['classification'].str.replace('/ ', '/')\n",
    "df['classification'] = df['classification'].str.replace(')', '')\n",
    "# pattern = '|'.join([', ', ',', '('])\n",
    "# df['classification'] = df['classification'].str.replace(pattern, '/')\n",
    "\n",
    "df.head(3)"
   ]
  },
  {
   "cell_type": "markdown",
   "metadata": {},
   "source": [
    "Deleting outliar 23 values for <b>Molecular weight</b> which was for Virus classification. It was a very small number so was deleted.\n",
    "\n",
    "<b> Note: </b> Molecular weight is calculated using sequence using the weight of each amino acid. Thus, if sequence is long, then it can have large weight\n"
   ]
  },
  {
   "cell_type": "code",
   "execution_count": 7,
   "metadata": {},
   "outputs": [
    {
     "data": {
      "text/plain": [
       "<matplotlib.axes._subplots.AxesSubplot at 0x1b55f30c9e8>"
      ]
     },
     "execution_count": 7,
     "metadata": {},
     "output_type": "execute_result"
    },
    {
     "data": {
      "image/png": "[encoded data removed]",
      "text/plain": [
       "<Figure size 432x288 with 1 Axes>"
      ]
     },
     "metadata": {
      "needs_background": "light"
     },
     "output_type": "display_data"
    }
   ],
   "source": [
    "sns.scatterplot(x=\"structureMolecularWeight\", y=\"densityMatthews\", data=df)\n",
    "\n",
    "# Later check: You can compare weight with sequence length"
   ]
  },
  {
   "cell_type": "code",
   "execution_count": 8,
   "metadata": {},
   "outputs": [
    {
     "data": {
      "text/plain": [
       "<matplotlib.axes._subplots.AxesSubplot at 0x1b5678dd630>"
      ]
     },
     "execution_count": 8,
     "metadata": {},
     "output_type": "execute_result"
    },
    {
     "data": {
      "image/png": "[encoded data removed]",
      "text/plain": [
       "<Figure size 432x288 with 1 Axes>"
      ]
     },
     "metadata": {
      "needs_background": "light"
     },
     "output_type": "display_data"
    }
   ],
   "source": [
    "#density_weight = df[['classification','densityMatthews','structureMolecularWeight']].dropna().copy()\n",
    "weight_max = df['structureMolecularWeight'] == df['structureMolecularWeight'].max()\n",
    "df = df[~weight_max].copy()\n",
    "sns.scatterplot(x=\"structureMolecularWeight\", y=\"densityMatthews\", data=df)"
   ]
  },
  {
   "cell_type": "markdown",
   "metadata": {},
   "source": [
    "Dealing with outliar of phValue. "
   ]
  },
  {
   "cell_type": "code",
   "execution_count": 9,
   "metadata": {},
   "outputs": [
    {
     "data": {
      "text/plain": [
       "<matplotlib.axes._subplots.AxesSubplot at 0x1b568618860>"
      ]
     },
     "execution_count": 9,
     "metadata": {},
     "output_type": "execute_result"
    },
    {
     "data": {
      "image/png": "[encoded data removed]",
      "text/plain": [
       "<Figure size 1080x432 with 1 Axes>"
      ]
     },
     "metadata": {
      "needs_background": "light"
     },
     "output_type": "display_data"
    }
   ],
   "source": [
    "phvalues = df['phValue'].dropna()\n",
    "df.boxplot(figsize=(15,6))"
   ]
  },
  {
   "cell_type": "code",
   "execution_count": 10,
   "metadata": {},
   "outputs": [
    {
     "data": {
      "text/plain": [
       "<matplotlib.axes._subplots.AxesSubplot at 0x1b568c95080>"
      ]
     },
     "execution_count": 10,
     "metadata": {},
     "output_type": "execute_result"
    },
    {
     "data": {
      "image/png": "[encoded data removed]",
      "text/plain": [
       "<Figure size 432x288 with 1 Axes>"
      ]
     },
     "metadata": {
      "needs_background": "light"
     },
     "output_type": "display_data"
    }
   ],
   "source": [
    "df['phValue'] = df['phValue'].replace(100, np.nan)\n",
    "sns.boxplot(df['phValue'].dropna())"
   ]
  },
  {
   "cell_type": "code",
   "execution_count": 11,
   "metadata": {},
   "outputs": [
    {
     "data": {
      "text/plain": [
       "87203"
      ]
     },
     "execution_count": 11,
     "metadata": {},
     "output_type": "execute_result"
    }
   ],
   "source": [
    "df.phValue.isnull().sum()"
   ]
  },
  {
   "cell_type": "code",
   "execution_count": 12,
   "metadata": {},
   "outputs": [
    {
     "data": {
      "text/plain": [
       "Index(['structureId', 'classification', 'experimentalTechnique',\n",
       "       'macromoleculeType', 'residueCount', 'resolution',\n",
       "       'structureMolecularWeight', 'crystallizationMethod',\n",
       "       'crystallizationTempK', 'densityMatthews', 'densityPercentSol',\n",
       "       'pdbxDetails', 'phValue', 'publicationYear', 'chainId', 'sequence'],\n",
       "      dtype='object')"
      ]
     },
     "execution_count": 12,
     "metadata": {},
     "output_type": "execute_result"
    }
   ],
   "source": [
    "df.columns"
   ]
  },
  {
   "cell_type": "code",
   "execution_count": 13,
   "metadata": {},
   "outputs": [],
   "source": [
    "df.drop(['crystallizationMethod','crystallizationTempK', 'publicationYear', 'pdbxDetails'], axis=1, inplace=True) \n",
    "df.dropna(subset=['densityMatthews','densityPercentSol','resolution', 'sequence'], inplace=True)"
   ]
  },
  {
   "cell_type": "markdown",
   "metadata": {},
   "source": [
    "Filter dataset's records for classification types which are > 100"
   ]
  },
  {
   "cell_type": "code",
   "execution_count": 14,
   "metadata": {},
   "outputs": [
    {
     "data": {
      "text/html": [
       "<div>\n",
       "<style scoped>\n",
       "    .dataframe tbody tr th:only-of-type {\n",
       "        vertical-align: middle;\n",
       "    }\n",
       "\n",
       "    .dataframe tbody tr th {\n",
       "        vertical-align: top;\n",
       "    }\n",
       "\n",
       "    .dataframe thead th {\n",
       "        text-align: right;\n",
       "    }\n",
       "</style>\n",
       "<table border=\"1\" class=\"dataframe\">\n",
       "  <thead>\n",
       "    <tr style=\"text-align: right;\">\n",
       "      <th></th>\n",
       "      <th>structureId</th>\n",
       "      <th>classification</th>\n",
       "      <th>experimentalTechnique</th>\n",
       "      <th>macromoleculeType</th>\n",
       "      <th>residueCount</th>\n",
       "      <th>resolution</th>\n",
       "      <th>structureMolecularWeight</th>\n",
       "      <th>densityMatthews</th>\n",
       "      <th>densityPercentSol</th>\n",
       "      <th>phValue</th>\n",
       "      <th>chainId</th>\n",
       "      <th>sequence</th>\n",
       "    </tr>\n",
       "  </thead>\n",
       "  <tbody>\n",
       "    <tr>\n",
       "      <th>0</th>\n",
       "      <td>101M</td>\n",
       "      <td>oxygen transport</td>\n",
       "      <td>X-RAY DIFFRACTION</td>\n",
       "      <td>Protein</td>\n",
       "      <td>154</td>\n",
       "      <td>2.07</td>\n",
       "      <td>18112.80</td>\n",
       "      <td>3.09</td>\n",
       "      <td>60.20</td>\n",
       "      <td>9.0</td>\n",
       "      <td>A</td>\n",
       "      <td>MVLSEGEWQLVLHVWAKVEADVAGHGQDILIRLFKSHPETLEKFDR...</td>\n",
       "    </tr>\n",
       "    <tr>\n",
       "      <th>1</th>\n",
       "      <td>102L</td>\n",
       "      <td>hydrolase/o-glycosyl</td>\n",
       "      <td>X-RAY DIFFRACTION</td>\n",
       "      <td>Protein</td>\n",
       "      <td>165</td>\n",
       "      <td>1.74</td>\n",
       "      <td>18926.61</td>\n",
       "      <td>2.75</td>\n",
       "      <td>55.28</td>\n",
       "      <td>NaN</td>\n",
       "      <td>A</td>\n",
       "      <td>MNIFEMLRIDEGLRLKIYKDTEGYYTIGIGHLLTKSPSLNAAAKSE...</td>\n",
       "    </tr>\n",
       "    <tr>\n",
       "      <th>2</th>\n",
       "      <td>102M</td>\n",
       "      <td>oxygen transport</td>\n",
       "      <td>X-RAY DIFFRACTION</td>\n",
       "      <td>Protein</td>\n",
       "      <td>154</td>\n",
       "      <td>1.84</td>\n",
       "      <td>18010.64</td>\n",
       "      <td>3.09</td>\n",
       "      <td>60.20</td>\n",
       "      <td>9.0</td>\n",
       "      <td>A</td>\n",
       "      <td>MVLSEGEWQLVLHVWAKVEADVAGHGQDILIRLFKSHPETLEKFDR...</td>\n",
       "    </tr>\n",
       "  </tbody>\n",
       "</table>\n",
       "</div>"
      ],
      "text/plain": [
       "  structureId        classification experimentalTechnique macromoleculeType  \\\n",
       "0        101M      oxygen transport     X-RAY DIFFRACTION           Protein   \n",
       "1        102L  hydrolase/o-glycosyl     X-RAY DIFFRACTION           Protein   \n",
       "2        102M      oxygen transport     X-RAY DIFFRACTION           Protein   \n",
       "\n",
       "   residueCount  resolution  structureMolecularWeight  densityMatthews  \\\n",
       "0           154        2.07                  18112.80             3.09   \n",
       "1           165        1.74                  18926.61             2.75   \n",
       "2           154        1.84                  18010.64             3.09   \n",
       "\n",
       "   densityPercentSol  phValue chainId  \\\n",
       "0              60.20      9.0       A   \n",
       "1              55.28      NaN       A   \n",
       "2              60.20      9.0       A   \n",
       "\n",
       "                                            sequence  \n",
       "0  MVLSEGEWQLVLHVWAKVEADVAGHGQDILIRLFKSHPETLEKFDR...  \n",
       "1  MNIFEMLRIDEGLRLKIYKDTEGYYTIGIGHLLTKSPSLNAAAKSE...  \n",
       "2  MVLSEGEWQLVLHVWAKVEADVAGHGQDILIRLFKSHPETLEKFDR...  "
      ]
     },
     "execution_count": 14,
     "metadata": {},
     "output_type": "execute_result"
    }
   ],
   "source": [
    "counts = df['classification'].value_counts()\n",
    "\n",
    "types = np.asarray(counts[(counts > 100)].index)\n",
    "\n",
    "data = df[df.classification.isin(types)].copy()\n",
    "data.head(3)"
   ]
  },
  {
   "cell_type": "code",
   "execution_count": 15,
   "metadata": {},
   "outputs": [
    {
     "data": {
      "text/plain": [
       "44748"
      ]
     },
     "execution_count": 15,
     "metadata": {},
     "output_type": "execute_result"
    }
   ],
   "source": [
    "data.phValue.isnull().sum()"
   ]
  },
  {
   "cell_type": "markdown",
   "metadata": {},
   "source": [
    "Handling Outliar of PhValue"
   ]
  },
  {
   "cell_type": "code",
   "execution_count": 16,
   "metadata": {},
   "outputs": [
    {
     "data": {
      "text/plain": [
       "{'hydrolase': 0,\n",
       " 'transferase': 1,\n",
       " 'oxidoreductase': 2,\n",
       " 'immune system': 3,\n",
       " 'hydrolase/hydrolase inhibitor': 4,\n",
       " 'lyase': 5,\n",
       " 'transcription': 6,\n",
       " 'transport protein': 7,\n",
       " 'viral protein': 8,\n",
       " 'isomerase': 9,\n",
       " 'signaling protein': 10,\n",
       " 'ligase': 11,\n",
       " 'structural genomics/unknown function': 12,\n",
       " 'transferase/transferase inhibitor': 13,\n",
       " 'protein binding': 14,\n",
       " 'membrane protein': 15,\n",
       " 'sugar binding protein': 16,\n",
       " 'chaperone': 17,\n",
       " 'structural protein': 18,\n",
       " 'dna binding protein': 19,\n",
       " 'cell adhesion': 20,\n",
       " 'electron transport': 21,\n",
       " 'metal binding protein': 22,\n",
       " 'unknown function': 23,\n",
       " 'cell cycle': 24,\n",
       " 'toxin': 25,\n",
       " 'protein transport': 26,\n",
       " 'photosynthesis': 27,\n",
       " 'oxidoreductase/oxidoreductase inhibitor': 28,\n",
       " 'rna binding protein': 29,\n",
       " 'de novo protein': 30,\n",
       " 'gene regulation': 31,\n",
       " 'hormone': 32,\n",
       " 'viral protein/immune system': 33,\n",
       " 'virus': 34,\n",
       " 'apoptosis': 35,\n",
       " 'metal transport': 36,\n",
       " 'fluorescent protein': 37,\n",
       " 'transcription regulator': 38,\n",
       " 'biosynthetic protein': 39,\n",
       " 'oxygen transport': 40,\n",
       " 'translation': 41,\n",
       " 'oxygen storage/transport': 42,\n",
       " 'lyase/lyase inhibitor': 43,\n",
       " 'cytokine': 44,\n",
       " 'lipid binding protein': 45,\n",
       " 'peptide binding protein': 46,\n",
       " 'plant protein': 47,\n",
       " 'blood clotting': 48,\n",
       " 'motor protein': 49,\n",
       " 'replication': 50,\n",
       " 'hydrolase/antibiotic': 51,\n",
       " 'hydrolase inhibitor': 52,\n",
       " 'ligase/ligase inhibitor': 53,\n",
       " 'hormone/growth factor': 54,\n",
       " 'luminescent protein': 55,\n",
       " 'oxidoreductase/electron transport': 56,\n",
       " 'receptor': 57,\n",
       " 'immunoglobulin': 58,\n",
       " 'lectin': 59,\n",
       " 'contractile protein': 60,\n",
       " 'electron transport/photosynthesis': 61,\n",
       " 'hydrolase/inhibitor': 62,\n",
       " 'antimicrobial protein': 63,\n",
       " 'hydrolase/protein binding': 64,\n",
       " 'isomerase/isomerase inhibitor': 65,\n",
       " 'biotin-binding protein': 66,\n",
       " 'splicing': 67,\n",
       " 'endocytosis': 68,\n",
       " 'immune system/viral protein': 69,\n",
       " 'hydrolase/immune system': 70,\n",
       " 'flavoprotein': 71,\n",
       " 'transferase/inhibitor': 72,\n",
       " 'hydrolase/transport protein': 73,\n",
       " 'hydrolase/hydrolase activator': 74,\n",
       " 'membrane protein/transport protein': 75,\n",
       " 'hormone receptor': 76,\n",
       " 'transferase/antibiotic': 77,\n",
       " 'nuclear protein': 78,\n",
       " 'lipid transport': 79,\n",
       " 'hydrolase /o-glycosyl': 80,\n",
       " 'hydrolase/peptide': 81,\n",
       " 'transferase/hydrolase': 82,\n",
       " 'allergen': 83,\n",
       " 'antibiotic': 84,\n",
       " 'cell invasion': 85,\n",
       " 'transcription/transcription inhibitor': 86,\n",
       " 'signaling protein/transferase': 87,\n",
       " 'isomerase/immunosuppressant': 88,\n",
       " 'endocytosis/exocytosis': 89,\n",
       " 'acetylcholine-binding protein': 90,\n",
       " 'oxidoreductase/inhibitor': 91,\n",
       " 'dioxygenase': 92,\n",
       " 'iron storage': 93,\n",
       " 'signaling protein/inhibitor': 94,\n",
       " 'transferase/peptide': 95,\n",
       " 'oxidoreductase/transferase': 96,\n",
       " 'transferase/transcription': 97,\n",
       " 'recombination': 98,\n",
       " 'transport protein/immune system': 99,\n",
       " 'oxygen storage/oxygen transport': 100,\n",
       " 'calcium-binding protein': 101,\n",
       " 'phosphotransferase': 102,\n",
       " 'transcription regulation': 103,\n",
       " 'protein fibril': 104,\n",
       " 'immune system/hydrolase': 105,\n",
       " 'biotin binding protein': 106,\n",
       " 'isomerase/intramolecular oxidoreductase': 107,\n",
       " 'transferase/signaling protein': 108,\n",
       " 'transcription/transferase': 109,\n",
       " 'ribosomal protein': 110,\n",
       " 'cytokine/cytokine receptor': 111,\n",
       " 'transport': 112,\n",
       " 'transferase/protein binding': 113,\n",
       " 'ligand binding protein': 114,\n",
       " 'oxygen storage': 115,\n",
       " 'lyase/inhibitor': 116,\n",
       " 'glycoprotein': 117,\n",
       " 'signaling protein/peptide': 118,\n",
       " 'antiviral protein': 119,\n",
       " 'viral protein/inhibitor': 120,\n",
       " 'ligase/transferase': 121,\n",
       " 'transferase/cell cycle': 122,\n",
       " 'hormone/growth factor receptor': 123,\n",
       " 'serine protease': 124,\n",
       " 'signaling protein/immune system': 125,\n",
       " 'oxygen binding': 126,\n",
       " 'calcium binding protein': 127,\n",
       " 'endonuclease': 128,\n",
       " 'proton transport': 129,\n",
       " 'transcription/inhibitor': 130,\n",
       " 'cell adhesion/immune system': 131,\n",
       " 'immune system/inhibitor': 132,\n",
       " 'hydrolase/ligase': 133,\n",
       " 'structural genomics': 134,\n",
       " 'hydrolase/transferase': 135,\n",
       " 'enterotoxin': 136,\n",
       " 'protein binding/inhibitor': 137,\n",
       " 'nucleotidyltransferase': 138}"
      ]
     },
     "execution_count": 16,
     "metadata": {},
     "output_type": "execute_result"
    }
   ],
   "source": [
    "class_dict = dict()\n",
    "count = 0\n",
    "\n",
    "classes = data['classification'].value_counts().items()\n",
    "\n",
    "for cat, num in classes:\n",
    "    \n",
    "    # Remove all other classes that have number of values are less than 100\n",
    "    if num < 100:\n",
    "        temp = data['classification'] == cat\n",
    "        data = data[~temp].copy()\n",
    "        continue\n",
    "        \n",
    "    # Remove all a class if all phValues are null\n",
    "    if data[(data['classification'] == cat) & (data['phValue'].notnull())].phValue.count() == 0:\n",
    "        temp = data['classification'] == cat\n",
    "        data = data[~temp].copy()\n",
    "        continue\n",
    "    \n",
    "    ph_mean = round(data[data['classification'] == cat]['phValue'].dropna().mean(),2)\n",
    "    data.loc[(data['classification'] == cat) & (data['phValue'].isna()),'phValue'] = ph_mean\n",
    "    \n",
    "    \n",
    "    \n",
    "    if num >= 100:\n",
    "        class_dict[cat] = count\n",
    "        count += 1\n",
    "\n",
    "class_dict"
   ]
  },
  {
   "cell_type": "code",
   "execution_count": 17,
   "metadata": {},
   "outputs": [
    {
     "data": {
      "text/html": [
       "<div>\n",
       "<style scoped>\n",
       "    .dataframe tbody tr th:only-of-type {\n",
       "        vertical-align: middle;\n",
       "    }\n",
       "\n",
       "    .dataframe tbody tr th {\n",
       "        vertical-align: top;\n",
       "    }\n",
       "\n",
       "    .dataframe thead th {\n",
       "        text-align: right;\n",
       "    }\n",
       "</style>\n",
       "<table border=\"1\" class=\"dataframe\">\n",
       "  <thead>\n",
       "    <tr style=\"text-align: right;\">\n",
       "      <th></th>\n",
       "      <th>structureId</th>\n",
       "      <th>classification</th>\n",
       "      <th>experimentalTechnique</th>\n",
       "      <th>macromoleculeType</th>\n",
       "      <th>residueCount</th>\n",
       "      <th>resolution</th>\n",
       "      <th>structureMolecularWeight</th>\n",
       "      <th>densityMatthews</th>\n",
       "      <th>densityPercentSol</th>\n",
       "      <th>phValue</th>\n",
       "      <th>chainId</th>\n",
       "      <th>sequence</th>\n",
       "      <th>class</th>\n",
       "    </tr>\n",
       "  </thead>\n",
       "  <tbody>\n",
       "    <tr>\n",
       "      <th>0</th>\n",
       "      <td>101M</td>\n",
       "      <td>oxygen transport</td>\n",
       "      <td>X-RAY DIFFRACTION</td>\n",
       "      <td>Protein</td>\n",
       "      <td>154</td>\n",
       "      <td>2.07</td>\n",
       "      <td>18112.80</td>\n",
       "      <td>3.09</td>\n",
       "      <td>60.2</td>\n",
       "      <td>9.0</td>\n",
       "      <td>A</td>\n",
       "      <td>MVLSEGEWQLVLHVWAKVEADVAGHGQDILIRLFKSHPETLEKFDR...</td>\n",
       "      <td>40</td>\n",
       "    </tr>\n",
       "    <tr>\n",
       "      <th>2</th>\n",
       "      <td>102M</td>\n",
       "      <td>oxygen transport</td>\n",
       "      <td>X-RAY DIFFRACTION</td>\n",
       "      <td>Protein</td>\n",
       "      <td>154</td>\n",
       "      <td>1.84</td>\n",
       "      <td>18010.64</td>\n",
       "      <td>3.09</td>\n",
       "      <td>60.2</td>\n",
       "      <td>9.0</td>\n",
       "      <td>A</td>\n",
       "      <td>MVLSEGEWQLVLHVWAKVEADVAGHGQDILIRLFKSHPETLEKFDR...</td>\n",
       "      <td>40</td>\n",
       "    </tr>\n",
       "    <tr>\n",
       "      <th>4</th>\n",
       "      <td>103M</td>\n",
       "      <td>oxygen transport</td>\n",
       "      <td>X-RAY DIFFRACTION</td>\n",
       "      <td>Protein</td>\n",
       "      <td>154</td>\n",
       "      <td>2.07</td>\n",
       "      <td>18093.78</td>\n",
       "      <td>3.09</td>\n",
       "      <td>60.3</td>\n",
       "      <td>9.0</td>\n",
       "      <td>A</td>\n",
       "      <td>MVLSEGEWQLVLHVWAKVEADVAGHGQDILIRLFKSHPETLEKFDR...</td>\n",
       "      <td>40</td>\n",
       "    </tr>\n",
       "    <tr>\n",
       "      <th>7</th>\n",
       "      <td>104M</td>\n",
       "      <td>oxygen transport</td>\n",
       "      <td>X-RAY DIFFRACTION</td>\n",
       "      <td>Protein</td>\n",
       "      <td>153</td>\n",
       "      <td>1.71</td>\n",
       "      <td>18030.63</td>\n",
       "      <td>1.87</td>\n",
       "      <td>34.3</td>\n",
       "      <td>7.0</td>\n",
       "      <td>A</td>\n",
       "      <td>VLSEGEWQLVLHVWAKVEADVAGHGQDILIRLFKSHPETLEKFDRF...</td>\n",
       "      <td>40</td>\n",
       "    </tr>\n",
       "    <tr>\n",
       "      <th>8</th>\n",
       "      <td>105M</td>\n",
       "      <td>oxygen transport</td>\n",
       "      <td>X-RAY DIFFRACTION</td>\n",
       "      <td>Protein</td>\n",
       "      <td>153</td>\n",
       "      <td>2.02</td>\n",
       "      <td>18030.63</td>\n",
       "      <td>1.83</td>\n",
       "      <td>33.0</td>\n",
       "      <td>9.0</td>\n",
       "      <td>A</td>\n",
       "      <td>VLSEGEWQLVLHVWAKVEADVAGHGQDILIRLFKSHPETLEKFDRF...</td>\n",
       "      <td>40</td>\n",
       "    </tr>\n",
       "  </tbody>\n",
       "</table>\n",
       "</div>"
      ],
      "text/plain": [
       "  structureId    classification experimentalTechnique macromoleculeType  \\\n",
       "0        101M  oxygen transport     X-RAY DIFFRACTION           Protein   \n",
       "2        102M  oxygen transport     X-RAY DIFFRACTION           Protein   \n",
       "4        103M  oxygen transport     X-RAY DIFFRACTION           Protein   \n",
       "7        104M  oxygen transport     X-RAY DIFFRACTION           Protein   \n",
       "8        105M  oxygen transport     X-RAY DIFFRACTION           Protein   \n",
       "\n",
       "   residueCount  resolution  structureMolecularWeight  densityMatthews  \\\n",
       "0           154        2.07                  18112.80             3.09   \n",
       "2           154        1.84                  18010.64             3.09   \n",
       "4           154        2.07                  18093.78             3.09   \n",
       "7           153        1.71                  18030.63             1.87   \n",
       "8           153        2.02                  18030.63             1.83   \n",
       "\n",
       "   densityPercentSol  phValue chainId  \\\n",
       "0               60.2      9.0       A   \n",
       "2               60.2      9.0       A   \n",
       "4               60.3      9.0       A   \n",
       "7               34.3      7.0       A   \n",
       "8               33.0      9.0       A   \n",
       "\n",
       "                                            sequence  class  \n",
       "0  MVLSEGEWQLVLHVWAKVEADVAGHGQDILIRLFKSHPETLEKFDR...     40  \n",
       "2  MVLSEGEWQLVLHVWAKVEADVAGHGQDILIRLFKSHPETLEKFDR...     40  \n",
       "4  MVLSEGEWQLVLHVWAKVEADVAGHGQDILIRLFKSHPETLEKFDR...     40  \n",
       "7  VLSEGEWQLVLHVWAKVEADVAGHGQDILIRLFKSHPETLEKFDRF...     40  \n",
       "8  VLSEGEWQLVLHVWAKVEADVAGHGQDILIRLFKSHPETLEKFDRF...     40  "
      ]
     },
     "execution_count": 17,
     "metadata": {},
     "output_type": "execute_result"
    }
   ],
   "source": [
    "data['class'] = data['classification'].map(class_dict)\n",
    "data.head()"
   ]
  },
  {
   "cell_type": "code",
   "execution_count": 18,
   "metadata": {},
   "outputs": [
    {
     "data": {
      "text/plain": [
       "structureId                 0\n",
       "classification              0\n",
       "experimentalTechnique       0\n",
       "macromoleculeType           0\n",
       "residueCount                0\n",
       "resolution                  0\n",
       "structureMolecularWeight    0\n",
       "densityMatthews             0\n",
       "densityPercentSol           0\n",
       "phValue                     0\n",
       "chainId                     0\n",
       "sequence                    0\n",
       "class                       0\n",
       "dtype: int64"
      ]
     },
     "execution_count": 18,
     "metadata": {},
     "output_type": "execute_result"
    }
   ],
   "source": [
    "data.isnull().sum()"
   ]
  },
  {
   "cell_type": "code",
   "execution_count": 19,
   "metadata": {},
   "outputs": [
    {
     "name": "stdout",
     "output_type": "stream",
     "text": [
      "<class 'pandas.core.frame.DataFrame'>\n",
      "Int64Index: 279138 entries, 0 to 346324\n",
      "Data columns (total 13 columns):\n",
      "structureId                 279138 non-null object\n",
      "classification              279138 non-null object\n",
      "experimentalTechnique       279138 non-null object\n",
      "macromoleculeType           279138 non-null object\n",
      "residueCount                279138 non-null int64\n",
      "resolution                  279138 non-null float64\n",
      "structureMolecularWeight    279138 non-null float64\n",
      "densityMatthews             279138 non-null float64\n",
      "densityPercentSol           279138 non-null float64\n",
      "phValue                     279138 non-null float64\n",
      "chainId                     279138 non-null object\n",
      "sequence                    279138 non-null object\n",
      "class                       279138 non-null int64\n",
      "dtypes: float64(5), int64(2), object(6)\n",
      "memory usage: 29.8+ MB\n"
     ]
    }
   ],
   "source": [
    "data.info()"
   ]
  },
  {
   "cell_type": "code",
   "execution_count": 20,
   "metadata": {},
   "outputs": [
    {
     "data": {
      "text/html": [
       "<div>\n",
       "<style scoped>\n",
       "    .dataframe tbody tr th:only-of-type {\n",
       "        vertical-align: middle;\n",
       "    }\n",
       "\n",
       "    .dataframe tbody tr th {\n",
       "        vertical-align: top;\n",
       "    }\n",
       "\n",
       "    .dataframe thead th {\n",
       "        text-align: right;\n",
       "    }\n",
       "</style>\n",
       "<table border=\"1\" class=\"dataframe\">\n",
       "  <thead>\n",
       "    <tr style=\"text-align: right;\">\n",
       "      <th></th>\n",
       "      <th>residueCount</th>\n",
       "      <th>resolution</th>\n",
       "      <th>structureMolecularWeight</th>\n",
       "      <th>densityMatthews</th>\n",
       "      <th>densityPercentSol</th>\n",
       "      <th>phValue</th>\n",
       "      <th>class</th>\n",
       "    </tr>\n",
       "  </thead>\n",
       "  <tbody>\n",
       "    <tr>\n",
       "      <th>count</th>\n",
       "      <td>279138.000000</td>\n",
       "      <td>279138.000000</td>\n",
       "      <td>2.791380e+05</td>\n",
       "      <td>279138.000000</td>\n",
       "      <td>279138.000000</td>\n",
       "      <td>279138.000000</td>\n",
       "      <td>279138.000000</td>\n",
       "    </tr>\n",
       "    <tr>\n",
       "      <th>mean</th>\n",
       "      <td>1691.767968</td>\n",
       "      <td>2.299487</td>\n",
       "      <td>1.951357e+05</td>\n",
       "      <td>2.754693</td>\n",
       "      <td>52.753233</td>\n",
       "      <td>6.798223</td>\n",
       "      <td>13.875259</td>\n",
       "    </tr>\n",
       "    <tr>\n",
       "      <th>std</th>\n",
       "      <td>2860.612908</td>\n",
       "      <td>0.646386</td>\n",
       "      <td>4.275491e+05</td>\n",
       "      <td>0.731753</td>\n",
       "      <td>10.085397</td>\n",
       "      <td>1.136427</td>\n",
       "      <td>22.570828</td>\n",
       "    </tr>\n",
       "    <tr>\n",
       "      <th>min</th>\n",
       "      <td>4.000000</td>\n",
       "      <td>0.480000</td>\n",
       "      <td>4.685500e+02</td>\n",
       "      <td>0.000000</td>\n",
       "      <td>0.000000</td>\n",
       "      <td>0.000000</td>\n",
       "      <td>0.000000</td>\n",
       "    </tr>\n",
       "    <tr>\n",
       "      <th>25%</th>\n",
       "      <td>424.000000</td>\n",
       "      <td>1.900000</td>\n",
       "      <td>4.781699e+04</td>\n",
       "      <td>2.280000</td>\n",
       "      <td>45.800000</td>\n",
       "      <td>6.300000</td>\n",
       "      <td>1.000000</td>\n",
       "    </tr>\n",
       "    <tr>\n",
       "      <th>50%</th>\n",
       "      <td>844.000000</td>\n",
       "      <td>2.200000</td>\n",
       "      <td>9.559023e+04</td>\n",
       "      <td>2.560000</td>\n",
       "      <td>51.890000</td>\n",
       "      <td>6.830000</td>\n",
       "      <td>4.000000</td>\n",
       "    </tr>\n",
       "    <tr>\n",
       "      <th>75%</th>\n",
       "      <td>1760.000000</td>\n",
       "      <td>2.660000</td>\n",
       "      <td>1.977836e+05</td>\n",
       "      <td>3.020000</td>\n",
       "      <td>59.240000</td>\n",
       "      <td>7.500000</td>\n",
       "      <td>16.000000</td>\n",
       "    </tr>\n",
       "    <tr>\n",
       "      <th>max</th>\n",
       "      <td>57792.000000</td>\n",
       "      <td>9.100000</td>\n",
       "      <td>3.683173e+07</td>\n",
       "      <td>13.890000</td>\n",
       "      <td>90.330000</td>\n",
       "      <td>12.000000</td>\n",
       "      <td>138.000000</td>\n",
       "    </tr>\n",
       "  </tbody>\n",
       "</table>\n",
       "</div>"
      ],
      "text/plain": [
       "        residueCount     resolution  structureMolecularWeight  \\\n",
       "count  279138.000000  279138.000000              2.791380e+05   \n",
       "mean     1691.767968       2.299487              1.951357e+05   \n",
       "std      2860.612908       0.646386              4.275491e+05   \n",
       "min         4.000000       0.480000              4.685500e+02   \n",
       "25%       424.000000       1.900000              4.781699e+04   \n",
       "50%       844.000000       2.200000              9.559023e+04   \n",
       "75%      1760.000000       2.660000              1.977836e+05   \n",
       "max     57792.000000       9.100000              3.683173e+07   \n",
       "\n",
       "       densityMatthews  densityPercentSol        phValue          class  \n",
       "count    279138.000000      279138.000000  279138.000000  279138.000000  \n",
       "mean          2.754693          52.753233       6.798223      13.875259  \n",
       "std           0.731753          10.085397       1.136427      22.570828  \n",
       "min           0.000000           0.000000       0.000000       0.000000  \n",
       "25%           2.280000          45.800000       6.300000       1.000000  \n",
       "50%           2.560000          51.890000       6.830000       4.000000  \n",
       "75%           3.020000          59.240000       7.500000      16.000000  \n",
       "max          13.890000          90.330000      12.000000     138.000000  "
      ]
     },
     "execution_count": 20,
     "metadata": {},
     "output_type": "execute_result"
    }
   ],
   "source": [
    "data.describe()"
   ]
  },
  {
   "cell_type": "markdown",
   "metadata": {},
   "source": [
    "## Building a model"
   ]
  },
  {
   "cell_type": "code",
   "execution_count": 21,
   "metadata": {},
   "outputs": [],
   "source": [
    "X = data[['residueCount','resolution','structureMolecularWeight','densityMatthews','densityPercentSol','phValue']]\n",
    "y = data['class']"
   ]
  },
  {
   "cell_type": "code",
   "execution_count": 22,
   "metadata": {},
   "outputs": [],
   "source": [
    "X_train, X_test, y_train, y_test =train_test_split(X, y, test_size=0.2, random_state=42)\n",
    "\n",
    "m = RandomForestClassifier(n_estimators=40, min_samples_leaf=3, n_jobs=-1)\n",
    "m.fit(X_train, y_train)\n",
    "\n",
    "predictions = m.predict(X_test)"
   ]
  },
  {
   "cell_type": "code",
   "execution_count": 23,
   "metadata": {},
   "outputs": [
    {
     "name": "stdout",
     "output_type": "stream",
     "text": [
      "              precision    recall  f1-score   support\n",
      "\n",
      "           0       0.78      0.92      0.84      8685\n",
      "           1       0.80      0.90      0.85      7035\n",
      "           2       0.90      0.92      0.91      6551\n",
      "           3       0.88      0.95      0.92      3075\n",
      "           4       0.94      0.93      0.93      2674\n",
      "           5       0.94      0.88      0.91      2281\n",
      "           6       0.86      0.87      0.86      1659\n",
      "           7       0.90      0.83      0.86      1402\n",
      "           8       0.94      0.90      0.92      1304\n",
      "           9       0.93      0.79      0.85      1252\n",
      "          10       0.87      0.81      0.84      1131\n",
      "          11       0.94      0.79      0.86       947\n",
      "          12       0.89      0.73      0.80       928\n",
      "          13       0.88      0.77      0.82       880\n",
      "          14       0.90      0.83      0.86       861\n",
      "          15       0.93      0.86      0.89       716\n",
      "          16       0.92      0.81      0.86       699\n",
      "          17       0.95      0.82      0.88       595\n",
      "          18       0.93      0.85      0.89       598\n",
      "          19       0.92      0.83      0.87       564\n",
      "          20       0.91      0.76      0.83       566\n",
      "          21       0.86      0.88      0.87       538\n",
      "          22       0.91      0.78      0.84       505\n",
      "          23       0.92      0.71      0.80       498\n",
      "          24       0.96      0.84      0.89       425\n",
      "          25       0.93      0.75      0.83       429\n",
      "          26       0.90      0.77      0.83       406\n",
      "          27       0.99      0.96      0.98       390\n",
      "          28       0.93      0.77      0.84       372\n",
      "          29       0.94      0.82      0.87       315\n",
      "          30       0.83      0.87      0.85       275\n",
      "          31       0.96      0.89      0.92       288\n",
      "          32       0.88      0.95      0.91       241\n",
      "          33       1.00      0.97      0.98       265\n",
      "          34       1.00      0.99      0.99       234\n",
      "          35       0.90      0.86      0.88       185\n",
      "          36       0.94      0.79      0.86       189\n",
      "          37       0.96      0.83      0.89       218\n",
      "          38       0.93      0.69      0.79       187\n",
      "          39       0.97      0.77      0.86       184\n",
      "          40       0.84      0.88      0.86       164\n",
      "          41       0.93      0.73      0.82       172\n",
      "          42       0.87      0.88      0.88       127\n",
      "          43       0.88      0.82      0.85       148\n",
      "          44       0.95      0.85      0.90       147\n",
      "          45       0.88      0.64      0.74       130\n",
      "          46       0.93      0.83      0.88       134\n",
      "          47       0.97      0.80      0.88       125\n",
      "          48       0.98      0.88      0.93       115\n",
      "          49       0.95      0.67      0.79       134\n",
      "          50       0.93      0.83      0.88        99\n",
      "          51       0.93      0.80      0.86        81\n",
      "          52       0.98      0.61      0.75        98\n",
      "          53       0.93      0.81      0.87        88\n",
      "          54       0.92      0.83      0.87        86\n",
      "          55       0.90      0.74      0.81        88\n",
      "          56       1.00      0.94      0.97        88\n",
      "          57       0.97      0.81      0.88        75\n",
      "          58       0.94      0.80      0.87        85\n",
      "          59       0.89      0.79      0.84        73\n",
      "          60       0.91      0.84      0.87        73\n",
      "          61       1.00      1.00      1.00        75\n",
      "          62       1.00      0.86      0.92        56\n",
      "          63       0.88      0.92      0.90        61\n",
      "          64       0.95      0.85      0.90        73\n",
      "          65       0.95      0.91      0.93        57\n",
      "          66       0.98      0.81      0.88        57\n",
      "          67       0.98      0.84      0.91        70\n",
      "          68       0.96      0.78      0.86        63\n",
      "          69       1.00      0.92      0.96        75\n",
      "          70       0.95      0.95      0.95        55\n",
      "          71       0.93      0.82      0.87        62\n",
      "          72       0.92      0.62      0.74        55\n",
      "          73       1.00      1.00      1.00        69\n",
      "          74       1.00      1.00      1.00        60\n",
      "          75       0.94      0.90      0.92        52\n",
      "          76       0.88      0.77      0.82        57\n",
      "          77       0.98      0.87      0.92        54\n",
      "          78       0.93      0.64      0.76        59\n",
      "          79       0.93      0.67      0.78        55\n",
      "          80       0.82      0.70      0.75        46\n",
      "          81       0.96      0.98      0.97        49\n",
      "          82       1.00      0.70      0.82        47\n",
      "          83       0.93      0.65      0.77        43\n",
      "          84       0.80      0.96      0.87        46\n",
      "          85       1.00      0.66      0.79        38\n",
      "          86       0.87      0.79      0.82        42\n",
      "          87       0.97      0.78      0.86        41\n",
      "          88       1.00      0.97      0.99        39\n",
      "          89       1.00      0.71      0.83        35\n",
      "          90       0.93      1.00      0.96        38\n",
      "          91       0.96      0.65      0.78        40\n",
      "          92       1.00      0.97      0.98        29\n",
      "          93       0.97      0.97      0.97        39\n",
      "          94       0.97      0.80      0.88        41\n",
      "          95       0.91      0.83      0.87        35\n",
      "          96       1.00      0.82      0.90        34\n",
      "          97       1.00      1.00      1.00        38\n",
      "          98       0.93      0.77      0.84        35\n",
      "          99       1.00      1.00      1.00        38\n",
      "         100       0.82      0.80      0.81        41\n",
      "         101       0.90      0.76      0.82        37\n",
      "         102       0.74      0.64      0.68        22\n",
      "         103       0.87      0.65      0.74        31\n",
      "         104       0.91      1.00      0.96        32\n",
      "         105       1.00      0.90      0.95        30\n",
      "         106       0.91      0.72      0.81        29\n",
      "         107       0.97      0.90      0.93        39\n",
      "         108       1.00      0.86      0.92        28\n",
      "         109       0.89      0.96      0.92        25\n",
      "         110       0.82      0.45      0.58        31\n",
      "         111       1.00      0.88      0.94        25\n",
      "         112       0.90      0.66      0.76        29\n",
      "         113       0.95      0.95      0.95        22\n",
      "         114       1.00      0.52      0.68        25\n",
      "         115       0.82      0.78      0.80        18\n",
      "         116       1.00      0.81      0.89        21\n",
      "         117       1.00      0.80      0.89        20\n",
      "         118       0.92      0.86      0.89        28\n",
      "         119       0.86      0.63      0.73        19\n",
      "         120       0.83      0.65      0.73        23\n",
      "         121       0.86      0.96      0.91        25\n",
      "         122       1.00      0.96      0.98        25\n",
      "         123       0.87      0.71      0.78        28\n",
      "         124       0.92      0.85      0.88        27\n",
      "         125       1.00      0.93      0.96        27\n",
      "         126       0.88      0.65      0.75        23\n",
      "         127       0.93      0.78      0.85        18\n",
      "         128       0.95      0.76      0.84        25\n",
      "         129       0.83      0.68      0.75        22\n",
      "         130       0.87      0.74      0.80        27\n",
      "         131       1.00      0.94      0.97        17\n",
      "         132       1.00      0.92      0.96        24\n",
      "         133       1.00      0.96      0.98        23\n",
      "         134       1.00      0.46      0.63        24\n",
      "         135       1.00      0.68      0.81        28\n",
      "         136       1.00      0.89      0.94        19\n",
      "         137       0.88      0.78      0.82        18\n",
      "         138       0.89      0.89      0.89        18\n",
      "\n",
      "    accuracy                           0.87     55828\n",
      "   macro avg       0.93      0.82      0.87     55828\n",
      "weighted avg       0.88      0.87      0.87     55828\n",
      "\n",
      "Accuracy : 0.8725729024862077 \n",
      "\n"
     ]
    }
   ],
   "source": [
    "print(classification_report(y_test, predictions))\n",
    "print(\"Accuracy :\",accuracy_score(y_test, predictions),'\\n')"
   ]
  },
  {
   "cell_type": "code",
   "execution_count": 28,
   "metadata": {},
   "outputs": [],
   "source": [
    "# features = ['residueCount','resolution','structureMolecularWeight','densityMatthews','densityPercentSol','phValue']\n",
    "# for f in features:\n",
    "#     df_subs = X.drop(f, axis=1)\n",
    "#     X_train, X_test, y_train, y_test =train_test_split(df_subs, y, test_size=0.2, random_state=42)\n",
    "#     m = RandomForestClassifier(n_estimators=40, min_samples_leaf=3, n_jobs=-1)\n",
    "#     m.fit(X_train, y_train)\n",
    "#     predictions = m.predict(X_test)\n",
    "#     print(f, \" :\",accuracy_score(y_test, predictions),'\\n')"
   ]
  },
  {
   "cell_type": "markdown",
   "metadata": {},
   "source": [
    "## Cross Validation"
   ]
  },
  {
   "cell_type": "code",
   "execution_count": 25,
   "metadata": {},
   "outputs": [],
   "source": [
    "from sklearn.model_selection import cross_val_score, KFold\n",
    "#from sklearn.nei"
   ]
  },
  {
   "cell_type": "code",
   "execution_count": 26,
   "metadata": {},
   "outputs": [],
   "source": [
    "m = RandomForestClassifier(n_estimators=40, min_samples_leaf=3, n_jobs=-1)"
   ]
  },
  {
   "cell_type": "code",
   "execution_count": 30,
   "metadata": {},
   "outputs": [],
   "source": [
    "kfold = KFold(n_splits=10, random_state=42, shuffle=True)"
   ]
  },
  {
   "cell_type": "code",
   "execution_count": 31,
   "metadata": {},
   "outputs": [
    {
     "name": "stdout",
     "output_type": "stream",
     "text": [
      "[0.88747582 0.88872967 0.88572043 0.88962528 0.88743999 0.88905209\n",
      " 0.88747582 0.88615032 0.88937054 0.88740014]\n"
     ]
    }
   ],
   "source": [
    "scores = cross_val_score(m, X, y, cv=kfold)\n",
    "print(scores)"
   ]
  },
  {
   "cell_type": "code",
   "execution_count": 32,
   "metadata": {},
   "outputs": [
    {
     "name": "stdout",
     "output_type": "stream",
     "text": [
      "0.8878440093525841\n"
     ]
    }
   ],
   "source": [
    "print(scores.mean())"
   ]
  },
  {
   "cell_type": "code",
   "execution_count": null,
   "metadata": {},
   "outputs": [],
   "source": [
    "# Currently wroking on other models\n",
    "models = []\n",
    "models.append(('KNN', KNeighborsClassifier()))\n",
    "models.append(('SVM', SVC()))"
   ]
  },
  {
   "cell_type": "code",
   "execution_count": null,
   "metadata": {},
   "outputs": [],
   "source": []
  },
  {
   "cell_type": "code",
   "execution_count": null,
   "metadata": {},
   "outputs": [],
   "source": [
    "#pd.set_option('display.max_columns', 100)\n",
    "#pd.set_option('display.max_rows', 4000)\n"
   ]
  },
  {
   "cell_type": "code",
   "execution_count": null,
   "metadata": {},
   "outputs": [],
   "source": []
  }
 ],
 "metadata": {
  "kernelspec": {
   "display_name": "Python 3",
   "language": "python",
   "name": "python3"
  },
  "language_info": {
   "codemirror_mode": {
    "name": "ipython",
    "version": 3
   },
   "file_extension": ".py",
   "mimetype": "text/x-python",
   "name": "python",
   "nbconvert_exporter": "python",
   "pygments_lexer": "ipython3",
   "version": "3.7.3"
  }
 },
 "nbformat": 4,
 "nbformat_minor": 2
}
